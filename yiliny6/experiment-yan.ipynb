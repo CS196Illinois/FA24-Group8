{
 "cells": [
  {
   "cell_type": "code",
   "execution_count": 17,
   "metadata": {},
   "outputs": [
    {
     "name": "stdout",
     "output_type": "stream",
     "text": [
      "Requirement already satisfied: openai in c:\\users\\dell\\appdata\\local\\programs\\python\\python312\\lib\\site-packages (1.51.0)Note: you may need to restart the kernel to use updated packages.\n",
      "\n",
      "Collecting openai\n",
      "  Downloading openai-1.51.2-py3-none-any.whl.metadata (24 kB)\n",
      "Requirement already satisfied: anyio<5,>=3.5.0 in c:\\users\\dell\\appdata\\local\\programs\\python\\python312\\lib\\site-packages (from openai) (4.6.0)\n",
      "Requirement already satisfied: distro<2,>=1.7.0 in c:\\users\\dell\\appdata\\local\\programs\\python\\python312\\lib\\site-packages (from openai) (1.9.0)\n",
      "Requirement already satisfied: httpx<1,>=0.23.0 in c:\\users\\dell\\appdata\\local\\programs\\python\\python312\\lib\\site-packages (from openai) (0.27.2)\n",
      "Requirement already satisfied: jiter<1,>=0.4.0 in c:\\users\\dell\\appdata\\local\\programs\\python\\python312\\lib\\site-packages (from openai) (0.5.0)\n",
      "Requirement already satisfied: pydantic<3,>=1.9.0 in c:\\users\\dell\\appdata\\local\\programs\\python\\python312\\lib\\site-packages (from openai) (2.9.2)\n",
      "Requirement already satisfied: sniffio in c:\\users\\dell\\appdata\\local\\programs\\python\\python312\\lib\\site-packages (from openai) (1.3.1)\n",
      "Requirement already satisfied: tqdm>4 in c:\\users\\dell\\appdata\\local\\programs\\python\\python312\\lib\\site-packages (from openai) (4.66.5)\n",
      "Requirement already satisfied: typing-extensions<5,>=4.11 in c:\\users\\dell\\appdata\\local\\programs\\python\\python312\\lib\\site-packages (from openai) (4.12.2)\n",
      "Requirement already satisfied: idna>=2.8 in c:\\users\\dell\\appdata\\local\\programs\\python\\python312\\lib\\site-packages (from anyio<5,>=3.5.0->openai) (3.10)\n",
      "Requirement already satisfied: certifi in c:\\users\\dell\\appdata\\local\\programs\\python\\python312\\lib\\site-packages (from httpx<1,>=0.23.0->openai) (2024.8.30)\n",
      "Requirement already satisfied: httpcore==1.* in c:\\users\\dell\\appdata\\local\\programs\\python\\python312\\lib\\site-packages (from httpx<1,>=0.23.0->openai) (1.0.6)\n",
      "Requirement already satisfied: h11<0.15,>=0.13 in c:\\users\\dell\\appdata\\local\\programs\\python\\python312\\lib\\site-packages (from httpcore==1.*->httpx<1,>=0.23.0->openai) (0.14.0)\n",
      "Requirement already satisfied: annotated-types>=0.6.0 in c:\\users\\dell\\appdata\\local\\programs\\python\\python312\\lib\\site-packages (from pydantic<3,>=1.9.0->openai) (0.7.0)\n",
      "Requirement already satisfied: pydantic-core==2.23.4 in c:\\users\\dell\\appdata\\local\\programs\\python\\python312\\lib\\site-packages (from pydantic<3,>=1.9.0->openai) (2.23.4)\n",
      "Requirement already satisfied: colorama in c:\\users\\dell\\appdata\\roaming\\python\\python312\\site-packages (from tqdm>4->openai) (0.4.6)\n",
      "Downloading openai-1.51.2-py3-none-any.whl (383 kB)\n",
      "Installing collected packages: openai\n",
      "  Attempting uninstall: openai\n",
      "    Found existing installation: openai 1.51.0\n",
      "    Uninstalling openai-1.51.0:\n",
      "      Successfully uninstalled openai-1.51.0\n",
      "Successfully installed openai-1.51.2\n"
     ]
    }
   ],
   "source": [
    "pip install --upgrade openai"
   ]
  },
  {
   "cell_type": "code",
   "execution_count": null,
   "metadata": {},
   "outputs": [],
   "source": [
    "import os"
   ]
  },
  {
   "cell_type": "code",
   "execution_count": 62,
   "metadata": {},
   "outputs": [
    {
     "name": "stdout",
     "output_type": "stream",
     "text": [
      "ChatCompletionMessage(content=\"Subject: Enthusiastic Student Seeking Research Opportunities\\n\\nDear Professor [Last Name],\\n\\nI hope this email finds you well. My name is [Your Name], and I am a [Your Year, e.g., sophomore] majoring in [Your Major] at [Your University]. I have a deep interest in [specific area of the professor's research], and I am eager to get involved in research opportunities under your guidance.\\n\\nI have been following your work on [mention any specific project, paper, or topic the professor is known for], and I am particularly inspired by [specific aspects of the professor's work]. Your research aligns closely with my interests, and I am excited about the possibility of contributing to it.\\n\\nThroughout my studies, I have developed strong skills in [mention relevant skills, such as data analysis, laboratory techniques, or specific software], and I am keen to apply my knowledge in a practical setting. Additionally, I have participated in [mention any relevant coursework, projects, or extracurricular activities], which has further nurtured my passion for research.\\n\\nI would be grateful for the opportunity to discuss how I can contribute to your research team. I am eager to learn and excited about the prospect of working alongside you and other researchers in [specific research area]. \\n\\nThank you for considering my request. I look forward to the possibility of discussing this with you further.\\n\\nBest regards,\\n\\n[Your Name]  \\n[Your Contact Information]  \\n[Your University]  \\n[Your Major]  \\n[Your Year]  \\n\\n---\\n\\n**Passion for Undergraduate Research**\\n\\nUndergraduate research is an exhilarating journey that fosters curiosity, critical thinking, and creativity. As a student, I am deeply passionate about exploring new ideas and contributing to the body of knowledge in my field. Engaging in research empowers me to transcend traditional learning paradigms and dive into the unknown, stimulating my intellectual growth.\\n\\nMy fascination with research stems from the thrill of discovery. The opportunity to immerse myself in a particular subject ignites my enthusiasm and encourages me to ask thought-provoking questions. Whether it’s analyzing data, conducting experiments, or exploring theoretical frameworks, each step of the research process is a chance to learn and innovate. \\n\\nMoreover, undergraduate research is an avenue for collaboration and mentorship. Working alongside experienced researchers and fellow students fosters a sense of community and shared purpose. Through discussions and exchanges of ideas, I gain new perspectives that deepen my understanding and provoke further inquiry.\\n\\nI actively seek out research opportunities not only to enhance my academic experience but also to prepare for my future career. The skills developed through research, such as problem-solving, analytical thinking, and effective communication, are invaluable in any professional setting. I am committed to leaving my mark on the academic community and making meaningful contributions that resonate beyond my undergraduate years. \\n\\nIn conclusion, my passion for undergraduate research is a driving force in my academic journey. It shapes my identity as a learner and fuels my ambition to make a difference in my field. I believe that through research, I can translate my curiosity into impactful contributions and inspire others to explore the vast world of knowledge that lies before us.\", refusal=None, role='assistant', audio=None, function_call=None, tool_calls=None)\n"
     ]
    }
   ],
   "source": [
    "from openai import OpenAI\n",
    "client = OpenAI()\n",
    "\n",
    "completion = client.chat.completions.create(\n",
    "    model=\"gpt-4o-mini\",\n",
    "    messages=[\n",
    "        {\"role\": \"user\", \"content\": \"Write a email to recomand himself to a professor to get involved in the professor's research.\"},\n",
    "        {\n",
    "            \"role\": \"user\",\n",
    "            \"content\": \"Write a paeeage about his passion for undergraduate research.\"\n",
    "        }\n",
    "    ]\n",
    ")\n",
    "\n",
    "print(completion.choices[0].message)"
   ]
  },
  {
   "cell_type": "code",
   "execution_count": 60,
   "metadata": {},
   "outputs": [],
   "source": [
    "import os\n",
    "import asyncio\n",
    "from openai import AsyncOpenAI\n",
    "\n",
    "client = AsyncOpenAI()\n",
    "\n",
    "\n",
    "async def main() -> None:\n",
    "    chat_completion = await client.chat.completions.create(\n",
    "        messages=[\n",
    "            {\n",
    "                \"role\": \"user\",\n",
    "                \"content\": \"Say this is a test\",\n",
    "            }\n",
    "        ],\n",
    "        model=\"gpt-3.5-turbo\",\n",
    "    )\n",
    "\n",
    "\n",
    "await main()"
   ]
  },
  {
   "cell_type": "code",
   "execution_count": 64,
   "metadata": {},
   "outputs": [
    {
     "name": "stdout",
     "output_type": "stream",
     "text": [
      "Subject: Expression of Interest for Research Opportunity in \n",
      "\n",
      "Dear Professor ,\n",
      "\n",
      "I hope this message finds you well. My name is , a student majoring in . I am writing to express my sincere interest in the research opportunity within your esteemed department.\n",
      "\n",
      "Over the years, I've developed a strong skill set in , which I believe will be beneficial for this research opportunity. My primary research interest is , an area that closely aligns with your recent work on . I am particularly intrigued by your recent publication on , and I am keen to contribute to this fascinating area of study.\n",
      "\n",
      "As a student, I have always been eager to apply my theoretical knowledge in practical scenarios and believe that this research opportunity will provide a platform for me to do so. I am confident that my background and skills in , combined with my passion for research, make me a strong candidate for this opportunity.\n",
      "\n",
      "I have attached my resume and other relevant documents for your perusal, which will provide further details about my academic achievements and professional experience. I am more than willing to provide any additional information you may need.\n",
      "\n",
      "I genuinely appreciate your consideration of my interest and am hopeful for the opportunity to discuss this further. I believe that this research opportunity under your esteemed guidance will be a significant step for me to advance my career in .\n",
      "\n",
      "Thank you very much for your time and consideration. I look forward to hearing from you soon.\n",
      "\n",
      "Sincerely,\n",
      "[Your Name]\n",
      "[Your Contact Information]\n",
      "\n",
      "Generated Email Template:\n",
      "\n",
      "None\n"
     ]
    }
   ],
   "source": [
    "import asyncio\n",
    "from openai import AsyncOpenAI\n",
    "\n",
    "client = AsyncOpenAI()\n",
    "\n",
    "async def generate_email(professor_name, research_area, student_name, major, year, skills, research_interest, attachment):\n",
    "    # Create a structured conversation for the model\n",
    "    prompt = f\"\"\"\n",
    "    Write a professional email template for a student interested in a research opportunity. \n",
    "    The student is {student_name}, a {year} majoring in {major}. They are skilled in {skills}, \n",
    "    and their primary research interest is {research_interest}. \n",
    "    The email should be addressed to Professor {professor_name}, whose research focuses on {research_area}. \n",
    "    The student will attach their resume and other relevant documents for the professor's review.\n",
    "\n",
    "    The email should be formal, respectful, and express the student's genuine interest in the professor's research. \n",
    "    \"\"\"\n",
    "\n",
    "    # Using the gpt-4 model for generating the email\n",
    "    response = await client.chat.completions.create(  # Use acreate for async call\n",
    "        model=\"gpt-4\",\n",
    "        messages=[\n",
    "            {\"role\": \"system\", \"content\": \"You are a helpful assistant that generates professional emails.\"},\n",
    "            {\"role\": \"user\", \"content\": prompt}\n",
    "        ],\n",
    "        max_tokens=300,\n",
    "        temperature=0.7\n",
    "    )\n",
    "    \n",
    "    # Extract the response text from the model's reply\n",
    "    email_template = response.choices[0].message.content\n",
    "    print(email_template)\n",
    "\n",
    "\n",
    "async def main():\n",
    "    # User inputs\n",
    "    professor_name = input(\"Enter the professor's name: \")\n",
    "    research_area = input(\"Enter the professor's research area: \")\n",
    "    student_name = input(\"Enter your name: \")\n",
    "    major = input(\"Enter your major: \")\n",
    "    year = input(\"Enter your academic year (e.g., Freshman, Sophomore): \")\n",
    "    skills = input(\"Enter your relevant skills (e.g., Python, data analysis): \")\n",
    "    research_interest = input(\"Enter your research interests: \")\n",
    "    attachment = input(\"Enter the name of the file you're attaching (e.g., resume.pdf): \")\n",
    "\n",
    "    # Generate email\n",
    "    email = await generate_email(professor_name, research_area, student_name, major, year, skills, research_interest, attachment)\n",
    "\n",
    "    # Display email template\n",
    "    print(\"\\nGenerated Email Template:\\n\")\n",
    "    print(email)\n",
    "\n",
    "await main()"
   ]
  },
  {
   "cell_type": "code",
   "execution_count": null,
   "metadata": {},
   "outputs": [],
   "source": [
    "async def main():\n",
    "    # User inputs\n",
    "    professor_name = input(\"Enter the professor's name: \")\n",
    "    research_area = input(\"Enter the professor's research area: \")\n",
    "    student_name = input(\"Enter your name: \")\n",
    "    major = input(\"Enter your major: \")\n",
    "    year = input(\"Enter your academic year (e.g., Freshman, Sophomore): \")\n",
    "    skills = input(\"Enter your relevant skills (e.g., Python, data analysis): \")\n",
    "    research_interest = input(\"Enter your research interests: \")\n",
    "    attachment = input(\"Enter the name of the file you're attaching (e.g., resume.pdf): \")\n",
    "\n",
    "    # Generate email\n",
    "    email = await generate_email(professor_name, research_area, student_name, major, year, skills, research_interest, attachment)\n",
    "\n",
    "    # Display email template if generated successfully\n",
    "    if email is not None:\n",
    "        print(\"\\nGenerated Email Template:\\n\")\n",
    "        print(email)\n",
    "    else:\n",
    "        print(\"Failed to generate the email template.\")"
   ]
  },
  {
   "cell_type": "code",
   "execution_count": 54,
   "metadata": {},
   "outputs": [
    {
     "name": "stdout",
     "output_type": "stream",
     "text": [
      "An error occurred: 'ChatCompletion' object is not subscriptable\n"
     ]
    }
   ],
   "source": [
    "from openai import OpenAI\n",
    "client = OpenAI()\n",
    "\n",
    "\n",
    "# Function to generate the email using GPT\n",
    "def generate_email(professor_name, research_area, student_name, major, year, skills, research_interest, attachment):\n",
    "    # Prepare the messages for the chat model\n",
    "    messages = [\n",
    "        {\"role\": \"user\", \"content\": f\"\"\"\n",
    "        Write a professional email template for a student applying for a research opportunity. \n",
    "        The student is {student_name}, a {year} majoring in {major}. They have skills in {skills} and are interested in {research_interest}.\n",
    "        The email should be addressed to Professor {professor_name}, whose research focuses on {research_area}. \n",
    "        The student will attach their resume ({attachment}) for the professor's review.\n",
    "        The email should be formal, respectful, and express the student's genuine interest in the professor's work.\n",
    "        \"\"\"}\n",
    "    ]\n",
    "\n",
    "    # Call OpenAI API to generate the email\n",
    "    response = client.chat.completions.create(\n",
    "        model=\"gpt-3.5-turbo\",  # Use \"gpt-4\" if you have access to it\n",
    "        messages=messages,\n",
    "        max_tokens=300,\n",
    "        temperature=0.7\n",
    "    )\n",
    "    \n",
    "    # Extract the text from the response\n",
    "    email_template = response['choices'][0]['message']['content']\n",
    "    return email_template\n",
    "\n",
    "# Main function to take user input and generate the email\n",
    "def main():\n",
    "    # User inputs\n",
    "    professor_name = input(\"Enter the professor's name: \")\n",
    "    research_area = input(\"Enter the professor's research area: \")\n",
    "    student_name = input(\"Enter your name: \")\n",
    "    major = input(\"Enter your major: \")\n",
    "    year = input(\"Enter your academic year (e.g., Freshman, Sophomore): \")\n",
    "    skills = input(\"Enter your relevant skills (e.g., Python, data analysis): \")\n",
    "    research_interest = input(\"Enter your research interests: \")\n",
    "    attachment = input(\"Enter the name of the file you're attaching (e.g., resume.pdf): \")\n",
    "\n",
    "    # Generate the email template\n",
    "    try:\n",
    "        email = generate_email(professor_name, research_area, student_name, major, year, skills, research_interest, attachment)\n",
    "\n",
    "        # Display the generated email\n",
    "        print(\"\\nGenerated Email Template:\\n\")\n",
    "        print(email)\n",
    "    except Exception as e:\n",
    "        print(f\"An error occurred: {e}\")\n",
    "\n",
    "if __name__ == \"__main__\":\n",
    "    main()\n"
   ]
  }
 ],
 "metadata": {
  "kernelspec": {
   "display_name": "Python 3",
   "language": "python",
   "name": "python3"
  },
  "language_info": {
   "codemirror_mode": {
    "name": "ipython",
    "version": 3
   },
   "file_extension": ".py",
   "mimetype": "text/x-python",
   "name": "python",
   "nbconvert_exporter": "python",
   "pygments_lexer": "ipython3",
   "version": "3.12.5"
  }
 },
 "nbformat": 4,
 "nbformat_minor": 2
}
